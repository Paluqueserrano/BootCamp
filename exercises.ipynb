{
 "cells": [
  {
   "cell_type": "markdown",
   "metadata": {},
   "source": [
    "##Exercise 1: my name"
   ]
  },
  {
   "cell_type": "code",
   "execution_count": 2,
   "metadata": {},
   "outputs": [
    {
     "name": "stdout",
     "output_type": "stream",
     "text": [
      "Patricia\n"
     ]
    }
   ],
   "source": [
    "#declare a variable and the value\n",
    "my_name = \"Patricia\"\n",
    "#print to generate result\n",
    "print(my_name)"
   ]
  },
  {
   "cell_type": "markdown",
   "metadata": {},
   "source": [
    "##Exercise 2: my age"
   ]
  },
  {
   "cell_type": "code",
   "execution_count": 3,
   "metadata": {},
   "outputs": [
    {
     "name": "stdout",
     "output_type": "stream",
     "text": [
      "45\n"
     ]
    }
   ],
   "source": [
    "#declare a variable and the value\n",
    "my_age = 45\n",
    "#print to generate result\n",
    "print(my_age)"
   ]
  },
  {
   "cell_type": "markdown",
   "metadata": {},
   "source": [
    "##Exercise 3 : age_diff"
   ]
  },
  {
   "cell_type": "code",
   "execution_count": 4,
   "metadata": {},
   "outputs": [
    {
     "name": "stdout",
     "output_type": "stream",
     "text": [
      "45\n",
      "13\n"
     ]
    }
   ],
   "source": [
    "#declare a variable and the value\n",
    "julia_age = 32\n",
    "#declare a variable and the value\n",
    "my_age = 45\n",
    "#print to generate result\n",
    "print(my_age)\n",
    "#calculates the age difference and assigns the result to a new variable called age_diff. \n",
    "age_diff = (my_age - julia_age)\n",
    "#print to make visible the result\n",
    "print(age_diff)"
   ]
  },
  {
   "cell_type": "markdown",
   "metadata": {},
   "source": [
    "##Exercise 4: compare ages (CONDITIONALS)"
   ]
  },
  {
   "cell_type": "code",
   "execution_count": 5,
   "metadata": {},
   "outputs": [
    {
     "name": "stdout",
     "output_type": "stream",
     "text": [
      "You are older than 21\n"
     ]
    }
   ],
   "source": [
    "#declare a variable and the value\n",
    "my_age = 45\n",
    "#if statement to check if the value stored in my_age is greater than 21 and print the sentence (\"You are older than 21\")\n",
    "\n",
    "if my_age > 21 :\n",
    "    print(\"You are older than 21\")\n",
    "#if statement is false, start else condition and print \"You are younger than 21\"\n",
    "else:\n",
    "    print (\"You are younger than 21\")"
   ]
  },
  {
   "cell_type": "markdown",
   "metadata": {},
   "source": [
    "##Exercise 5"
   ]
  },
  {
   "cell_type": "code",
   "execution_count": 6,
   "metadata": {},
   "outputs": [
    {
     "name": "stdout",
     "output_type": "stream",
     "text": [
      "Julia is younger than you\n"
     ]
    }
   ],
   "source": [
    "#similar to the previous code but using also elif \n",
    "my_age = 45\n",
    "julia_age = 32\n",
    "\n",
    "if my_age < julia_age:\n",
    "    print(\"Julia is older than you\")\n",
    "elif my_age > julia_age:\n",
    "    print(\"Julia is younger than you\")\n",
    "else: \n",
    "    print(\"You have the same age as Julia\")"
   ]
  },
  {
   "cell_type": "markdown",
   "metadata": {},
   "source": [
    "##Exercise 6 : List of names, print the 1st and last element, sort and Loop for"
   ]
  },
  {
   "cell_type": "code",
   "execution_count": 7,
   "metadata": {},
   "outputs": [
    {
     "name": "stdout",
     "output_type": "stream",
     "text": [
      "Andres Schondube\n",
      "Sarah Bianco\n",
      "Andres Schondube\n",
      "Gabriela Arlt\n",
      "Godwin Oti\n",
      "Jost Lepere\n",
      "Killian Meehan\n",
      "Lucas Dupias\n",
      "Lucas Meissner\n",
      "Muayad Sirafy\n",
      "Patricia Luque Serrano\n",
      "Pierre Loyal\n",
      "Raul Hernandez\n",
      "Sarah Bianco\n"
     ]
    }
   ],
   "source": [
    "#variable is a list with values in string format in it\n",
    "my_list = [\"Jost Lepere\", \"Killian Meehan\", \"Lucas Dupias\", \"Muayad Sirafy\", \"Raul Hernandez\", \"Andres Schondube\", \"Gabriela Arlt\", \"Godwin Oti\", \"Lucas Meissner\", \"Pierre Loyal\", \"Patricia Luque Serrano\", \"Sarah Bianco\"]\n",
    "#sorted the list by 1st name\n",
    "my_list.sort ()\n",
    "#printed the value in the 1st index position in the list\n",
    "print (my_list[0])\n",
    "#printed the value in the last index position in the list\n",
    "print (my_list[-1])\n",
    "\n",
    "#for loop to iterates through each index (i) in the range of length of my list and print a list including all index of the sorted list\n",
    "for i in range (len(my_list)):\n",
    "    print (my_list[i])\n",
    "    \n",
    "      "
   ]
  },
  {
   "cell_type": "markdown",
   "metadata": {},
   "source": [
    "###Exercise 7: Student age"
   ]
  },
  {
   "cell_type": "code",
   "execution_count": 8,
   "metadata": {},
   "outputs": [
    {
     "name": "stdout",
     "output_type": "stream",
     "text": [
      "[24, 25, 27, 28, 39, 45]\n",
      "24\n",
      "28\n",
      "24\n",
      "28\n"
     ]
    }
   ],
   "source": [
    "students_age = [24, 25, 27, 28, 39, 45]\n",
    "\n",
    "# Print the original list of students' ages\n",
    "print(students_age)\n",
    "\n",
    "# Using a for loop to print even numbers where num=name given to the element to be checked from the list student_age. If the \"if\" statement has been fulfilled then is an even number and should be printed\n",
    "\n",
    "for num in students_age:\n",
    "    if num % 2 == 0:\n",
    "        print(num)\n",
    "\n",
    "# Initializing a counter variable for the while loop\n",
    "num = 0\n",
    "# sets up a while loop that continues to execute as long as the value of num is less than the length of the students_age.\n",
    "# to check also even numbers\n",
    "while num < len(students_age):\n",
    "    # condition to check the even numbers\n",
    "    if students_age[num] % 2 == 0:\n",
    "        print(students_age[num])\n",
    "    num += 1"
   ]
  },
  {
   "cell_type": "markdown",
   "metadata": {},
   "source": [
    "##Exercise 8: Write a list and print the lowest"
   ]
  },
  {
   "cell_type": "code",
   "execution_count": 9,
   "metadata": {},
   "outputs": [
    {
     "name": "stdout",
     "output_type": "stream",
     "text": [
      "14\n"
     ]
    }
   ],
   "source": [
    "list1=[14,25,28,100,99,98,24,23]\n",
    "#function min\n",
    "min_value=min(list1)\n",
    "print(min_value)"
   ]
  },
  {
   "cell_type": "markdown",
   "metadata": {},
   "source": [
    "##Exercise 9: Write a list and print the highest"
   ]
  },
  {
   "cell_type": "code",
   "execution_count": 10,
   "metadata": {},
   "outputs": [
    {
     "name": "stdout",
     "output_type": "stream",
     "text": [
      "100\n"
     ]
    }
   ],
   "source": [
    "list1=[14,25,28,100,99,98,24,23]\n",
    "#function max to calculate the max value form the list, the value for the variable\n",
    "max_value=max(list1)\n",
    "print(max_value)"
   ]
  },
  {
   "cell_type": "markdown",
   "metadata": {},
   "source": [
    "##Exercise 10: Calculate the age of a customer having the year"
   ]
  },
  {
   "cell_type": "code",
   "execution_count": 11,
   "metadata": {},
   "outputs": [
    {
     "name": "stdout",
     "output_type": "stream",
     "text": [
      "25\n",
      "29\n",
      "19\n",
      "14\n",
      "17\n",
      "18\n",
      "30\n",
      "28\n",
      "45\n",
      "16\n"
     ]
    }
   ],
   "source": [
    "list2=[1999, 1995, 2005, 2010, 2007, 2006, 1994, 1996, 1979, 2008]\n",
    "#empty list to set the values from gotten from the for loop execution\n",
    "list3 = []\n",
    "#year is the loop variable to iterates into the list2 (year)\n",
    "for year in list2:\n",
    "    list3=2024-year\n",
    "    print(list3)\n",
    "\n"
   ]
  },
  {
   "cell_type": "markdown",
   "metadata": {},
   "source": [
    "##Exercise 11: extract name and calculate the age of a customer"
   ]
  },
  {
   "cell_type": "code",
   "execution_count": 12,
   "metadata": {},
   "outputs": [
    {
     "name": "stdout",
     "output_type": "stream",
     "text": [
      "Bob is 25\n",
      "Jack is 29\n",
      "Lisa is 19\n",
      "Maria is 14\n",
      "Ben is 17\n",
      "Emma is 18\n",
      "Oscar is 30\n",
      "Amy is 28\n",
      "Paul is 45\n",
      "Etta is 16\n"
     ]
    }
   ],
   "source": [
    "customer_list = [\n",
    "                    {\"name\": \"Bob\", \"age\": 1999},\n",
    "                    {\"name\": \"Jack\", \"age\": 1995},\n",
    "                    {\"name\": \"Lisa\", \"age\": 2005},\n",
    "                    {\"name\": \"Maria\", \"age\": 2010},\n",
    "                    {\"name\": \"Ben\", \"age\": 2007},\n",
    "                    {\"name\": \"Emma\", \"age\": 2006},\n",
    "                    {\"name\": \"Oscar\", \"age\": 1994},\n",
    "                    {\"name\": \"Amy\", \"age\": 1996},\n",
    "                    {\"name\": \"Paul\", \"age\": 1979},\n",
    "                    {\"name\": \"Etta\", \"age\": 2008}\n",
    "                ]\n",
    "#a=variable with the current year as value\n",
    "a=2024\n",
    "#x=for loop variable to iterate though the list and get the real age\n",
    "for x in customer_list:\n",
    "    real_age=a-x[\"age\"]\n",
    "    #x= for loop to get the name associated to the year\n",
    "    print(x[\"name\"], \"is\", real_age)"
   ]
  },
  {
   "cell_type": "markdown",
   "metadata": {},
   "source": [
    "##Exercise 12: remove items without using min or max"
   ]
  },
  {
   "cell_type": "code",
   "execution_count": 13,
   "metadata": {},
   "outputs": [
    {
     "name": "stdout",
     "output_type": "stream",
     "text": [
      "45\n",
      "14\n",
      "[25, 29, 17, 18, 30, 28, 16]\n"
     ]
    }
   ],
   "source": [
    "list_ages = [25,29,14,17,18,30,28,45,16]\n",
    "#None=0        \n",
    "youngest_person = None\n",
    "#checks whether youngest_person is None or if the current age (number) is less than the current value of youngest_person. If either condition is true, it updates youngest_person with the current age.\n",
    "\n",
    "for number in list_ages:\n",
    "    if youngest_person is None or youngest_person < number:\n",
    "        youngest_person = number\n",
    "        \n",
    "print(youngest_person)\n",
    "\n",
    "oldest_person = None\n",
    "\n",
    "for number in list_ages:\n",
    "    if oldest_person is None or oldest_person > number:\n",
    "        oldest_person = number\n",
    "        \n",
    "print(oldest_person)\n",
    "\n",
    "#Using remove method \n",
    "list_ages = [25,29,14,17,18,30,28,45,16]\n",
    "list_ages.remove(45)\n",
    "list_ages.remove(14)\n",
    "print(list_ages)"
   ]
  },
  {
   "cell_type": "code",
   "execution_count": 14,
   "metadata": {},
   "outputs": [
    {
     "name": "stdout",
     "output_type": "stream",
     "text": [
      "List after element removal: [25, 29, 17, 18, 30, 28, 16]\n"
     ]
    }
   ],
   "source": [
    "#Another way to remove values from a list\n",
    "list_ages = [25,29,14,17,18,30,28,45,16]\n",
    "list_ages=[age for age in list_ages if age != 45]\n",
    "list_ages=[age for age in list_ages if age != 14]\n",
    "print(\"List after element removal:\", list_ages)"
   ]
  },
  {
   "cell_type": "markdown",
   "metadata": {},
   "source": [
    "##Exercise 13: create a list with common ages (Comprehension list)"
   ]
  },
  {
   "cell_type": "code",
   "execution_count": 15,
   "metadata": {},
   "outputs": [
    {
     "name": "stdout",
     "output_type": "stream",
     "text": [
      "[10, 13, 15, 16, 18, 19]\n"
     ]
    }
   ],
   "source": [
    "#variable common as name of the new list which will be the \"house\" of the common values. Then intersection method to get the common values\n",
    "berlin = [15, 13, 16, 18, 19, 10, 12 ]\n",
    "munich = [7, 13, 15, 20, 19, 18, 10, 16]\n",
    "common = list (set (berlin).intersection (munich))\n",
    "print (common)"
   ]
  },
  {
   "cell_type": "markdown",
   "metadata": {},
   "source": [
    "##Exercise 14: remove duplicates"
   ]
  },
  {
   "cell_type": "code",
   "execution_count": 16,
   "metadata": {},
   "outputs": [
    {
     "name": "stdout",
     "output_type": "stream",
     "text": [
      "[15, 13, 16, 18, 19, 15, 10]\n",
      "The list after removing duplicates: [15, 13, 16, 18, 19, 10]\n"
     ]
    }
   ],
   "source": [
    "ages = [15, 13, 16, 18, 19, 15, 10]\n",
    "\n",
    "print(str(ages))\n",
    "\n",
    "unique_set = set()\n",
    "new_list = [n for n in ages if n not in unique_set and not unique_set.add(n)]\n",
    "\n",
    "print(\"The list after removing duplicates: \" + str(new_list))"
   ]
  },
  {
   "cell_type": "markdown",
   "metadata": {},
   "source": [
    "##Exercise 15: function welcome"
   ]
  },
  {
   "cell_type": "code",
   "execution_count": 2,
   "metadata": {},
   "outputs": [
    {
     "name": "stdout",
     "output_type": "stream",
     "text": [
      "Welcome Jost have a nice day\n",
      "Welcome Evelyn have a nice day\n"
     ]
    }
   ],
   "source": [
    "#function with 2 parameters name 1 and name2\n",
    "def welcome (name1,name2):      # sourcery skip: use-fstring-for-concatenation\n",
    "    print(\"Welcome \"+ name1 +\" have a nice day\")\n",
    "    print(\"Welcome \" + name2 + \" have a nice day\")\n",
    "    \n",
    "# Calling the function \n",
    "welcome(\"Jost\", \"Evelyn\")"
   ]
  },
  {
   "cell_type": "markdown",
   "metadata": {},
   "source": [
    "##Exercise 16:  a function that takes a string as input and calculates the length."
   ]
  },
  {
   "cell_type": "code",
   "execution_count": 18,
   "metadata": {},
   "outputs": [
    {
     "name": "stdout",
     "output_type": "stream",
     "text": [
      "5\n",
      "2\n"
     ]
    }
   ],
   "source": [
    "#function calculates the length of string uses a for loop to iterate through each character in the string and increments a counter (length) for each character. The final count represents the length of the string, and the function returns this value.\n",
    "\n",
    "def get_length(string):\n",
    "    length = 0\n",
    "\n",
    "    for x in string:\n",
    "        length += 1\n",
    "\n",
    "    return length\n",
    "\n",
    "print(get_length('Hello'))\n",
    "print(get_length('Hi'))\n"
   ]
  },
  {
   "cell_type": "markdown",
   "metadata": {},
   "source": [
    "##Exercise 17:  a function which checks whether a number is even."
   ]
  },
  {
   "cell_type": "code",
   "execution_count": 19,
   "metadata": {},
   "outputs": [
    {
     "name": "stdout",
     "output_type": "stream",
     "text": [
      "Yes\n",
      "No\n"
     ]
    }
   ],
   "source": [
    "def check_even(number):\n",
    "    if number % 2 == 0:\n",
    "        return \"Yes\"\n",
    "    else:\n",
    "        return \"No\"\n",
    "\n",
    "print(check_even(6))\n",
    "print(check_even(5))"
   ]
  },
  {
   "cell_type": "markdown",
   "metadata": {},
   "source": [
    "##Exercise 18:  rewrite exercises 11,12,13,14 and 15 as a function."
   ]
  },
  {
   "cell_type": "code",
   "execution_count": 20,
   "metadata": {},
   "outputs": [
    {
     "name": "stdout",
     "output_type": "stream",
     "text": [
      "Bob is 25\n",
      "Jack is 29\n",
      "Lisa is 19\n",
      "Maria is 14\n",
      "Ben is 17\n",
      "Emma is 18\n",
      "Oscar is 30\n",
      "Amy is 28\n",
      "Paul is 45\n",
      "Etta is 16\n"
     ]
    }
   ],
   "source": [
    "#Exercise 11 as a function (calculate age and build a function)\n",
    "\n",
    "def print_customer(customer_list):\n",
    "\n",
    "\n",
    "    for x in customer_list:\n",
    "        real_age=2024-x[\"age\"]\n",
    "        print(x[\"name\"], \"is\", real_age)\n",
    "\n",
    "    \n",
    "    customer_list = [\n",
    "                    {\"name\": \"Bob\", \"age\": 1999},\n",
    "                    {\"name\": \"Jack\", \"age\": 1995},\n",
    "                    {\"name\": \"Lisa\", \"age\": 2005},\n",
    "                    {\"name\": \"Maria\", \"age\": 2010},\n",
    "                    {\"name\": \"Ben\", \"age\": 2007},\n",
    "                    {\"name\": \"Emma\", \"age\": 2006},\n",
    "                    {\"name\": \"Oscar\", \"age\": 1994},\n",
    "                    {\"name\": \"Amy\", \"age\": 1996},\n",
    "                    {\"name\": \"Paul\", \"age\": 1979},\n",
    "                    {\"name\": \"Etta\", \"age\": 2008}\n",
    "                ]\n",
    "\n",
    "print_customer(customer_list)"
   ]
  },
  {
   "cell_type": "code",
   "execution_count": 21,
   "metadata": {},
   "outputs": [
    {
     "name": "stdout",
     "output_type": "stream",
     "text": [
      "Bob is 25\n",
      "Jack is 29\n",
      "Lisa is 19\n",
      "Maria is 14\n",
      "Ben is 17\n",
      "Emma is 18\n",
      "Oscar is 30\n",
      "Amy is 28\n",
      "Paul is 45\n",
      "Etta is 16\n"
     ]
    }
   ],
   "source": [
    "print_customer(customer_list)"
   ]
  },
  {
   "cell_type": "code",
   "execution_count": 42,
   "metadata": {},
   "outputs": [
    {
     "ename": "NameError",
     "evalue": "name 'Python' is not defined",
     "output_type": "error",
     "traceback": [
      "\u001b[1;31m---------------------------------------------------------------------------\u001b[0m",
      "\u001b[1;31mNameError\u001b[0m                                 Traceback (most recent call last)",
      "Cell \u001b[1;32mIn[42], line 1\u001b[0m\n\u001b[1;32m----> 1\u001b[0m Python\n\u001b[0;32m      3\u001b[0m \u001b[38;5;28;01mdef\u001b[39;00m \u001b[38;5;21mremove_youngest_and_oldest\u001b[39m(old_list):\n\u001b[0;32m      4\u001b[0m     old_list\u001b[38;5;241m.\u001b[39msort()\n",
      "\u001b[1;31mNameError\u001b[0m: name 'Python' is not defined"
     ]
    }
   ],
   "source": [
    "\n",
    "def remove_youngest_and_oldest(old_list):\n",
    "    old_list.sort()\n",
    "    old_list.pop(0)\n",
    "    old_list.pop()\n",
    "    return old_list\n",
    "\n",
    "old_list = [20, 24, 14, 9, 12, 13, 25, 23, 40, 11]\n",
    "result_list = remove_youngest_and_oldest(old_list)\n",
    "print(result_list)\n"
   ]
  },
  {
   "cell_type": "code",
   "execution_count": null,
   "metadata": {},
   "outputs": [
    {
     "name": "stdout",
     "output_type": "stream",
     "text": [
      "[15, 13, 16, 18, 19, 10]\n"
     ]
    }
   ],
   "source": [
    "#Exercise 13 as a function (create a common list)\n",
    "\n",
    "def common_num(list1,list2):\n",
    "    \n",
    "    common=[]\n",
    "    for num in list1:\n",
    "        if num in list2:\n",
    "            common.append(num)\n",
    "    return common\n",
    "\n",
    "berlin = [15, 13, 16, 18, 19, 10, 12 ]\n",
    "munich = [7, 13, 15, 20, 19, 18, 10, 16]\n",
    "print(common_num(berlin, munich))"
   ]
  },
  {
   "cell_type": "code",
   "execution_count": 43,
   "metadata": {},
   "outputs": [
    {
     "name": "stdout",
     "output_type": "stream",
     "text": [
      "[10, 13, 15, 16, 18, 19]\n"
     ]
    }
   ],
   "source": [
    "def no_duplicates(num):\n",
    "    return list(set(num))\n",
    "\n",
    "duplicates = [15, 13, 16, 18, 19, 15, 10]\n",
    "result_list = no_duplicates(duplicates)\n",
    "print(result_list)"
   ]
  },
  {
   "cell_type": "code",
   "execution_count": 40,
   "metadata": {},
   "outputs": [
    {
     "name": "stdout",
     "output_type": "stream",
     "text": [
      "The length of the string is: 5\n",
      "Is 6 even? Yes\n",
      "Is 5 even? No\n"
     ]
    }
   ],
   "source": [
    "#Exercise 18. Everything in a function\n",
    "def total_function(): \n",
    "    def welcome_and_check(name1, name2):\n",
    "        print(f\"Welcome {name1}! Have a nice day.\")\n",
    "        print(f\"Welcome {name2}! Have a nice day.\")\n",
    "\n",
    "    def get_length(string):\n",
    "        return len(string)\n",
    "\n",
    "    def check_even(number):\n",
    "        return \"Yes\" if number % 2 == 0 else \"No\"\n",
    "\n",
    "    welcome_and_check(\"Jost\", \"Evelyn\")\n",
    "string_length = get_length('Hello')\n",
    "\n",
    "print(f\"The length of the string is: {string_length}\")\n",
    "\n",
    "even_result_1 = check_even(6)\n",
    "even_result_2 = check_even(5)\n",
    "\n",
    "print(f\"Is 6 even? {even_result_1}\")\n",
    "print(f\"Is 5 even? {even_result_2}\")\n"
   ]
  },
  {
   "cell_type": "code",
   "execution_count": 36,
   "metadata": {},
   "outputs": [
    {
     "data": {
      "text/plain": [
       "<function __main__.total_function()>"
      ]
     },
     "execution_count": 36,
     "metadata": {},
     "output_type": "execute_result"
    }
   ],
   "source": [
    "total_function"
   ]
  },
  {
   "cell_type": "markdown",
   "metadata": {},
   "source": [
    "##Exercise 19:function that takes an input list and value of age to find as input and return true or false "
   ]
  },
  {
   "cell_type": "code",
   "execution_count": null,
   "metadata": {},
   "outputs": [
    {
     "name": "stdout",
     "output_type": "stream",
     "text": [
      "True\n"
     ]
    }
   ],
   "source": [
    "\n",
    "def is_age_present(num):\n",
    "    ages = [25, 29, 14, 17, 18, 30, 28, 45, 16]\n",
    "\n",
    "    if num in ages:\n",
    "        print(\"True\")\n",
    "    else:\n",
    "        print(\"False\")\n",
    "user_age = int(input(\"Enter your age: \"))\n",
    "is_age_present(user_age)"
   ]
  },
  {
   "cell_type": "markdown",
   "metadata": {},
   "source": [
    "INTERMEDIATE LEVEL\n"
   ]
  },
  {
   "cell_type": "markdown",
   "metadata": {},
   "source": [
    "SET 1"
   ]
  },
  {
   "cell_type": "code",
   "execution_count": 37,
   "metadata": {},
   "outputs": [
    {
     "name": "stdout",
     "output_type": "stream",
     "text": [
      "The result is: 3\n"
     ]
    }
   ],
   "source": [
    "\n",
    "def test(any_list):\n",
    "    odd_list = []\n",
    "    even_list = []\n",
    "    for x in any_list:\n",
    "        if x % 2 != 0:\n",
    "            odd_list.append(x)\n",
    "        else:\n",
    "            even_list.append(x)\n",
    "            \n",
    "    if len(odd_list) > 1:\n",
    "        return odd_list[0]\n",
    "    else:\n",
    "        return even_list[0]\n",
    "\n",
    "# Example usage\n",
    "my_list = [3, 8, 5, 12, 7]\n",
    "result = test(my_list)\n",
    "print(f\"The result is: {result}\")\n"
   ]
  },
  {
   "cell_type": "code",
   "execution_count": 39,
   "metadata": {},
   "outputs": [
    {
     "name": "stdout",
     "output_type": "stream",
     "text": [
      "[20, 24, 14, 12, 13, 25, 23, 11]\n"
     ]
    }
   ],
   "source": [
    "all_ages = [20, 24, 14, 9, 12, 13, 25, 23, 40, 11]\n",
    "age_min = min(all_ages)\n",
    "age_max = max(all_ages)\n",
    "\n",
    "# Remove the minimum and maximum values from the list\n",
    "all_ages.remove(age_min)\n",
    "all_ages.remove(age_max)\n",
    "\n",
    "print(all_ages)\n",
    "\n",
    "\n"
   ]
  },
  {
   "cell_type": "code",
   "execution_count": null,
   "metadata": {},
   "outputs": [],
   "source": []
  },
  {
   "cell_type": "code",
   "execution_count": 1,
   "metadata": {},
   "outputs": [
    {
     "name": "stdout",
     "output_type": "stream",
     "text": [
      "Requirement already satisfied: python-dotenv in c:\\users\\patri\\anaconda3\\lib\\site-packages (0.21.0)\n",
      "Note: you may need to restart the kernel to use updated packages.\n"
     ]
    }
   ],
   "source": [
    "pip install python-dotenv"
   ]
  },
  {
   "cell_type": "code",
   "execution_count": 1,
   "metadata": {},
   "outputs": [
    {
     "name": "stdout",
     "output_type": "stream",
     "text": [
      "Requirement already satisfied: python-dotenv in c:\\users\\patri\\anaconda3\\lib\\site-packages (0.21.0)\n",
      "Note: you may need to restart the kernel to use updated packages.\n"
     ]
    }
   ],
   "source": [
    "pip install python-dotenv"
   ]
  }
 ],
 "metadata": {
  "kernelspec": {
   "display_name": "Python 3",
   "language": "python",
   "name": "python3"
  },
  "language_info": {
   "codemirror_mode": {
    "name": "ipython",
    "version": 3
   },
   "file_extension": ".py",
   "mimetype": "text/x-python",
   "name": "python",
   "nbconvert_exporter": "python",
   "pygments_lexer": "ipython3",
   "version": "3.11.5"
  }
 },
 "nbformat": 4,
 "nbformat_minor": 2
}
